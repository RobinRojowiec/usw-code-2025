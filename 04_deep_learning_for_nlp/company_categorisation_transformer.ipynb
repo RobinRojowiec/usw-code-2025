{
 "cells": [
  {
   "cell_type": "code",
   "execution_count": 1,
   "id": "40ad3c22",
   "metadata": {},
   "outputs": [
    {
     "data": {
      "application/vnd.microsoft.datawrangler.viewer.v0+json": {
       "columns": [
        {
         "name": "index",
         "rawType": "int64",
         "type": "integer"
        },
        {
         "name": "category",
         "rawType": "object",
         "type": "string"
        },
        {
         "name": "company",
         "rawType": "object",
         "type": "string"
        },
        {
         "name": "description",
         "rawType": "object",
         "type": "string"
        }
       ],
       "ref": "a19331f1-70a4-4b02-995e-9a46d4c451ee",
       "rows": [
        [
         "0",
         "Animals & Pets",
         "ruffandtumbledogcoats.com",
         "At Ruff and Tumble we are proud to be the market leaders in Dog Drying Coats.\n\nOur high-quality, super-absorbent, double thickness soft cotton towelling drying rugs, with their unique, practical yet stylish design, is what sets us apart from other brands. Everything we make at Ruff and Tumble is designed with dogs and their owners in mind. Our Dog Drying Robes, Mitts, Bed Covers and Sofa Throws are the ultimate solution for managing wet dogs. Designed with care, and made from top quality cotton towelling, the Ruff and Tumble range is simply essential for dog owners everywhere."
        ],
        [
         "1",
         "Animals & Pets",
         "protect-mypet.com",
         "A truly tailored solution to parasite protection\n\nOur goal is simple: to keep every pet protected from parasites, by making parasite protection as easy and accessible as possible.\n\nWe deliver flea, tick and worm treatments through your letterbox in exactly the right doses for your pet, at exactly the right time. Simply answer a few questions about your pet, and select from a range of treatment options. We’ll tailor their treatments and put everything in their very own personalised dispensing envelope. When it arrives in the post, it’s time to dose! You’ll never forget to protect, and you can enjoy the convenience of having your pet’s care on your doormat when you need it.\n\nVet-recommended treatments you can trust\n\nOur protection options include the UK’s No. 1 flea treatment, Frontline Plus, as well as market-leaders, Drontal and Dronspot, and other reputable products that are safe, effective and provide long-lasting protection. As a team of veterinary professionals ourselves, we wouldn’t have it any other way.\n\nA commitment-free subscription that you control\n\nEverything you need to manage your subscription is available at your fingertips via your online account. Make changes to your pet’s protection, add other pets to your subscription, pause or cancel deliveries and more.\n\nWant to know more?\n\n\nVisit our website to read our story, discover how we’re supporting pet welfare charities and enjoy fun reads in our pet-friendly hub: www.protect-mypet.com\n"
        ],
        [
         "2",
         "Animals & Pets",
         "vetscriptions.co.uk",
         "We care about your pets and believe that they should have access to the right medicines at an affordable price. We only sell products that your Vet would recommend so you can trust that our products are reliable and most importantly safe for your pet.\n\nWe can supply exactly the same products, from exactly the same suppliers as your local veterinary clinic, but because we are an online only retailer our overheads are lower, we can keep our prices lower too. In fact we guarantee that you will save at least 40% every time you buy from us\n\nWe sell prescription and other veterinary medicines, health supplements, nutraceuticals, remedies, animal medications online... basically all the health products that you might ever need, at HUGE discounts! \n\n"
        ],
        [
         "3",
         "Animals & Pets",
         "animal-health.co.uk",
         "With market leading products, numerous awards and an impressive amount of media coverage, The Animal Health Company remains at the very forefront of animal care. The Animal Health Company produce a leading range of complementary feeds for equines and canines. The company was originally formed in 1990 and since then, has continued to make outstanding contributions to the world of animal healthcare. The meticulous research carried out by the Animal Health Company strongly reflects that of their motto, “committed to animal care.”"
        ],
        [
         "4",
         "Animals & Pets",
         "www.travellingpet.vet",
         "I am a veterinary surgeon qualified to complete paperwork for pet travel to the E.U. and further afield. I offer a home visit service and a hassle free way to get your paperwork completed before travel."
        ]
       ],
       "shape": {
        "columns": 3,
        "rows": 5
       }
      },
      "text/html": [
       "<div>\n",
       "<style scoped>\n",
       "    .dataframe tbody tr th:only-of-type {\n",
       "        vertical-align: middle;\n",
       "    }\n",
       "\n",
       "    .dataframe tbody tr th {\n",
       "        vertical-align: top;\n",
       "    }\n",
       "\n",
       "    .dataframe thead th {\n",
       "        text-align: right;\n",
       "    }\n",
       "</style>\n",
       "<table border=\"1\" class=\"dataframe\">\n",
       "  <thead>\n",
       "    <tr style=\"text-align: right;\">\n",
       "      <th></th>\n",
       "      <th>category</th>\n",
       "      <th>company</th>\n",
       "      <th>description</th>\n",
       "    </tr>\n",
       "  </thead>\n",
       "  <tbody>\n",
       "    <tr>\n",
       "      <th>0</th>\n",
       "      <td>Animals &amp; Pets</td>\n",
       "      <td>ruffandtumbledogcoats.com</td>\n",
       "      <td>At Ruff and Tumble we are proud to be the mark...</td>\n",
       "    </tr>\n",
       "    <tr>\n",
       "      <th>1</th>\n",
       "      <td>Animals &amp; Pets</td>\n",
       "      <td>protect-mypet.com</td>\n",
       "      <td>A truly tailored solution to parasite protecti...</td>\n",
       "    </tr>\n",
       "    <tr>\n",
       "      <th>2</th>\n",
       "      <td>Animals &amp; Pets</td>\n",
       "      <td>vetscriptions.co.uk</td>\n",
       "      <td>We care about your pets and believe that they ...</td>\n",
       "    </tr>\n",
       "    <tr>\n",
       "      <th>3</th>\n",
       "      <td>Animals &amp; Pets</td>\n",
       "      <td>animal-health.co.uk</td>\n",
       "      <td>With market leading products, numerous awards ...</td>\n",
       "    </tr>\n",
       "    <tr>\n",
       "      <th>4</th>\n",
       "      <td>Animals &amp; Pets</td>\n",
       "      <td>www.travellingpet.vet</td>\n",
       "      <td>I am a veterinary surgeon qualified to complet...</td>\n",
       "    </tr>\n",
       "  </tbody>\n",
       "</table>\n",
       "</div>"
      ],
      "text/plain": [
       "         category                    company  \\\n",
       "0  Animals & Pets  ruffandtumbledogcoats.com   \n",
       "1  Animals & Pets          protect-mypet.com   \n",
       "2  Animals & Pets        vetscriptions.co.uk   \n",
       "3  Animals & Pets        animal-health.co.uk   \n",
       "4  Animals & Pets      www.travellingpet.vet   \n",
       "\n",
       "                                         description  \n",
       "0  At Ruff and Tumble we are proud to be the mark...  \n",
       "1  A truly tailored solution to parasite protecti...  \n",
       "2  We care about your pets and believe that they ...  \n",
       "3  With market leading products, numerous awards ...  \n",
       "4  I am a veterinary surgeon qualified to complet...  "
      ]
     },
     "execution_count": 1,
     "metadata": {},
     "output_type": "execute_result"
    }
   ],
   "source": [
    "import pandas as pd\n",
    "\n",
    "df = pd.read_csv(\"data/trustpilot_company_descriptions.csv\")\n",
    "df.head()"
   ]
  },
  {
   "cell_type": "code",
   "execution_count": 2,
   "id": "d5f82cfd",
   "metadata": {},
   "outputs": [
    {
     "data": {
      "text/plain": [
       "1680"
      ]
     },
     "execution_count": 2,
     "metadata": {},
     "output_type": "execute_result"
    }
   ],
   "source": [
    "len(df)"
   ]
  },
  {
   "cell_type": "code",
   "execution_count": 3,
   "id": "5ff03fd2",
   "metadata": {},
   "outputs": [
    {
     "data": {
      "application/vnd.microsoft.datawrangler.viewer.v0+json": {
       "columns": [
        {
         "name": "category",
         "rawType": "object",
         "type": "string"
        },
        {
         "name": "proportion",
         "rawType": "float64",
         "type": "float"
        }
       ],
       "ref": "08e5da83-aa2e-4fc8-9dc9-21d7d1c77de7",
       "rows": [
        [
         "Restaurants & Bars",
         "0.05952380952380952"
        ],
        [
         "Food, Beverages & Tobacco",
         "0.055357142857142855"
        ],
        [
         "Business Services",
         "0.052976190476190475"
        ],
        [
         "Sports",
         "0.05178571428571429"
        ],
        [
         "Education & Training",
         "0.05119047619047619"
        ],
        [
         "Hobbies & Crafts",
         "0.05"
        ],
        [
         "Home Services",
         "0.0494047619047619"
        ],
        [
         "Animals & Pets",
         "0.0494047619047619"
        ],
        [
         "Public & Local Services",
         "0.047619047619047616"
        ],
        [
         "Legal Services & Government",
         "0.04642857142857143"
        ],
        [
         "Events & Entertainment",
         "0.04523809523809524"
        ],
        [
         "Home & Garden",
         "0.04523809523809524"
        ],
        [
         "Health & Medical",
         "0.04523809523809524"
        ],
        [
         "Beauty & Well-being",
         "0.04285714285714286"
        ],
        [
         "Money & Insurance",
         "0.041666666666666664"
        ],
        [
         "Electronics & Technology",
         "0.04107142857142857"
        ],
        [
         "Utilities",
         "0.04047619047619048"
        ],
        [
         "Shopping & Fashion",
         "0.03988095238095238"
        ],
        [
         "Construction & Manufacturing",
         "0.03988095238095238"
        ],
        [
         "Vehicles & Transportation",
         "0.03571428571428571"
        ],
        [
         "Media & Publishing",
         "0.03511904761904762"
        ],
        [
         "Travel & Vacation",
         "0.033928571428571426"
        ]
       ],
       "shape": {
        "columns": 1,
        "rows": 22
       }
      },
      "text/plain": [
       "category\n",
       "Restaurants & Bars              0.059524\n",
       "Food, Beverages & Tobacco       0.055357\n",
       "Business Services               0.052976\n",
       "Sports                          0.051786\n",
       "Education & Training            0.051190\n",
       "Hobbies & Crafts                0.050000\n",
       "Home Services                   0.049405\n",
       "Animals & Pets                  0.049405\n",
       "Public & Local Services         0.047619\n",
       "Legal Services & Government     0.046429\n",
       "Events & Entertainment          0.045238\n",
       "Home & Garden                   0.045238\n",
       "Health & Medical                0.045238\n",
       "Beauty & Well-being             0.042857\n",
       "Money & Insurance               0.041667\n",
       "Electronics & Technology        0.041071\n",
       "Utilities                       0.040476\n",
       "Shopping & Fashion              0.039881\n",
       "Construction & Manufacturing    0.039881\n",
       "Vehicles & Transportation       0.035714\n",
       "Media & Publishing              0.035119\n",
       "Travel & Vacation               0.033929\n",
       "Name: proportion, dtype: float64"
      ]
     },
     "execution_count": 3,
     "metadata": {},
     "output_type": "execute_result"
    }
   ],
   "source": [
    "df[\"category\"].value_counts(normalize=True)"
   ]
  },
  {
   "cell_type": "code",
   "execution_count": 4,
   "id": "78e4d705",
   "metadata": {},
   "outputs": [],
   "source": [
    "from torch.utils.data import Dataset\n",
    "from sklearn.preprocessing import LabelEncoder\n",
    "from sklearn.model_selection import train_test_split\n",
    "from datasets import Dataset\n",
    "\n",
    "# Encode categories\n",
    "label_encoder = LabelEncoder()\n",
    "df['labels'] = label_encoder.fit_transform(df['category'])\n",
    "\n",
    "# TODO: make this a 3 split (train, val, test)\n",
    "df_train, df_test = train_test_split(df, test_size=0.2, stratify=df['labels'], random_state=42)\n",
    "df_train, df_val = train_test_split(df_train, test_size=0.2, stratify=df_train['labels'], random_state=42)\n",
    "\n",
    "ds_train = Dataset.from_pandas(df_train)\n",
    "ds_val = Dataset.from_pandas(df_val)\n",
    "ds_test = Dataset.from_pandas(df_test)"
   ]
  },
  {
   "cell_type": "code",
   "execution_count": null,
   "id": "b9d8f90a",
   "metadata": {},
   "outputs": [
    {
     "name": "stderr",
     "output_type": "stream",
     "text": [
      "Some weights of BertForSequenceClassification were not initialized from the model checkpoint at google/bert_uncased_L-2_H-128_A-2 and are newly initialized: ['classifier.bias', 'classifier.weight']\n",
      "You should probably TRAIN this model on a down-stream task to be able to use it for predictions and inference.\n"
     ]
    },
    {
     "data": {
      "application/vnd.jupyter.widget-view+json": {
       "model_id": "1dbd1df309d74481b597b7ed39c52dc2",
       "version_major": 2,
       "version_minor": 0
      },
      "text/plain": [
       "Map:   0%|          | 0/336 [00:00<?, ? examples/s]"
      ]
     },
     "metadata": {},
     "output_type": "display_data"
    },
    {
     "data": {
      "application/vnd.jupyter.widget-view+json": {
       "model_id": "dbc90044a9fe42ffbea95fcf12c31e32",
       "version_major": 2,
       "version_minor": 0
      },
      "text/plain": [
       "Map:   0%|          | 0/1075 [00:00<?, ? examples/s]"
      ]
     },
     "metadata": {},
     "output_type": "display_data"
    },
    {
     "data": {
      "application/vnd.jupyter.widget-view+json": {
       "model_id": "025a89aa099b4861b9ae4f3a1e4fb27d",
       "version_major": 2,
       "version_minor": 0
      },
      "text/plain": [
       "Map:   0%|          | 0/269 [00:00<?, ? examples/s]"
      ]
     },
     "metadata": {},
     "output_type": "display_data"
    }
   ],
   "source": [
    "from transformers import AutoModelForSequenceClassification, AutoTokenizer\n",
    "import os\n",
    "os.environ[\"TOKENIZERS_PARALLELISM\"] = \"false\"\n",
    "\n",
    "# hyperparameters\n",
    "num_classes = len(label_encoder.classes_)\n",
    "epochs = 10\n",
    "\n",
    "\n",
    "model = AutoModelForSequenceClassification.from_pretrained(\"google/bert_uncased_L-2_H-128_A-2\", num_labels=num_classes)\n",
    "tokenizer = AutoTokenizer.from_pretrained(\"google/bert_uncased_L-2_H-128_A-2\")\n",
    "\n",
    "\n",
    "def tokenize_dataset(dataset):\n",
    "    return tokenizer(dataset[\"description\"], padding=\"max_length\", truncation=True, max_length=128)\n",
    "\n",
    "ds_test = ds_test.map(tokenize_dataset, batched=True)\n",
    "ds_train = ds_train.map(tokenize_dataset, batched=True)\n",
    "ds_val = ds_val.map(tokenize_dataset, batched=True)"
   ]
  },
  {
   "cell_type": "code",
   "execution_count": 13,
   "id": "3cd3ccaa",
   "metadata": {},
   "outputs": [
    {
     "name": "stderr",
     "output_type": "stream",
     "text": [
      "/tmp/ipykernel_14508/3843721011.py:38: FutureWarning: `tokenizer` is deprecated and will be removed in version 5.0.0 for `Trainer.__init__`. Use `processing_class` instead.\n",
      "  trainer = Trainer(\n"
     ]
    },
    {
     "data": {
      "text/html": [
       "\n",
       "    <div>\n",
       "      \n",
       "      <progress value='1350' max='1350' style='width:300px; height:20px; vertical-align: middle;'></progress>\n",
       "      [1350/1350 01:20, Epoch 10/10]\n",
       "    </div>\n",
       "    <table border=\"1\" class=\"dataframe\">\n",
       "  <thead>\n",
       " <tr style=\"text-align: left;\">\n",
       "      <th>Step</th>\n",
       "      <th>Training Loss</th>\n",
       "      <th>Validation Loss</th>\n",
       "      <th>Accuracy</th>\n",
       "      <th>F1</th>\n",
       "      <th>Precision</th>\n",
       "      <th>Recall</th>\n",
       "    </tr>\n",
       "  </thead>\n",
       "  <tbody>\n",
       "    <tr>\n",
       "      <td>100</td>\n",
       "      <td>2.028700</td>\n",
       "      <td>2.313041</td>\n",
       "      <td>0.427509</td>\n",
       "      <td>0.395632</td>\n",
       "      <td>0.475868</td>\n",
       "      <td>0.427509</td>\n",
       "    </tr>\n",
       "    <tr>\n",
       "      <td>200</td>\n",
       "      <td>2.028700</td>\n",
       "      <td>2.183827</td>\n",
       "      <td>0.475836</td>\n",
       "      <td>0.430103</td>\n",
       "      <td>0.478064</td>\n",
       "      <td>0.475836</td>\n",
       "    </tr>\n",
       "    <tr>\n",
       "      <td>300</td>\n",
       "      <td>2.028700</td>\n",
       "      <td>2.092008</td>\n",
       "      <td>0.472119</td>\n",
       "      <td>0.429508</td>\n",
       "      <td>0.484208</td>\n",
       "      <td>0.472119</td>\n",
       "    </tr>\n",
       "    <tr>\n",
       "      <td>400</td>\n",
       "      <td>2.028700</td>\n",
       "      <td>2.006464</td>\n",
       "      <td>0.524164</td>\n",
       "      <td>0.485656</td>\n",
       "      <td>0.517542</td>\n",
       "      <td>0.524164</td>\n",
       "    </tr>\n",
       "    <tr>\n",
       "      <td>500</td>\n",
       "      <td>1.940700</td>\n",
       "      <td>1.919686</td>\n",
       "      <td>0.542751</td>\n",
       "      <td>0.502907</td>\n",
       "      <td>0.546129</td>\n",
       "      <td>0.542751</td>\n",
       "    </tr>\n",
       "    <tr>\n",
       "      <td>600</td>\n",
       "      <td>1.940700</td>\n",
       "      <td>1.866227</td>\n",
       "      <td>0.561338</td>\n",
       "      <td>0.532848</td>\n",
       "      <td>0.597899</td>\n",
       "      <td>0.561338</td>\n",
       "    </tr>\n",
       "    <tr>\n",
       "      <td>700</td>\n",
       "      <td>1.940700</td>\n",
       "      <td>1.825650</td>\n",
       "      <td>0.572491</td>\n",
       "      <td>0.540810</td>\n",
       "      <td>0.594204</td>\n",
       "      <td>0.572491</td>\n",
       "    </tr>\n",
       "    <tr>\n",
       "      <td>800</td>\n",
       "      <td>1.940700</td>\n",
       "      <td>1.777943</td>\n",
       "      <td>0.576208</td>\n",
       "      <td>0.548036</td>\n",
       "      <td>0.596566</td>\n",
       "      <td>0.576208</td>\n",
       "    </tr>\n",
       "    <tr>\n",
       "      <td>900</td>\n",
       "      <td>1.940700</td>\n",
       "      <td>1.750502</td>\n",
       "      <td>0.579926</td>\n",
       "      <td>0.554305</td>\n",
       "      <td>0.628854</td>\n",
       "      <td>0.579926</td>\n",
       "    </tr>\n",
       "    <tr>\n",
       "      <td>1000</td>\n",
       "      <td>1.339000</td>\n",
       "      <td>1.734135</td>\n",
       "      <td>0.591078</td>\n",
       "      <td>0.564576</td>\n",
       "      <td>0.638187</td>\n",
       "      <td>0.591078</td>\n",
       "    </tr>\n",
       "    <tr>\n",
       "      <td>1100</td>\n",
       "      <td>1.339000</td>\n",
       "      <td>1.718619</td>\n",
       "      <td>0.602230</td>\n",
       "      <td>0.586479</td>\n",
       "      <td>0.641447</td>\n",
       "      <td>0.602230</td>\n",
       "    </tr>\n",
       "    <tr>\n",
       "      <td>1200</td>\n",
       "      <td>1.339000</td>\n",
       "      <td>1.697709</td>\n",
       "      <td>0.602230</td>\n",
       "      <td>0.584889</td>\n",
       "      <td>0.622648</td>\n",
       "      <td>0.602230</td>\n",
       "    </tr>\n",
       "    <tr>\n",
       "      <td>1300</td>\n",
       "      <td>1.339000</td>\n",
       "      <td>1.691586</td>\n",
       "      <td>0.609665</td>\n",
       "      <td>0.591835</td>\n",
       "      <td>0.625333</td>\n",
       "      <td>0.609665</td>\n",
       "    </tr>\n",
       "  </tbody>\n",
       "</table><p>"
      ],
      "text/plain": [
       "<IPython.core.display.HTML object>"
      ]
     },
     "metadata": {},
     "output_type": "display_data"
    },
    {
     "name": "stderr",
     "output_type": "stream",
     "text": [
      "/home/robin/repositories/usw-code-2025/venv/lib/python3.11/site-packages/sklearn/metrics/_classification.py:1565: UndefinedMetricWarning: Precision is ill-defined and being set to 0.0 in labels with no predicted samples. Use `zero_division` parameter to control this behavior.\n",
      "  _warn_prf(average, modifier, f\"{metric.capitalize()} is\", len(result))\n",
      "/home/robin/repositories/usw-code-2025/venv/lib/python3.11/site-packages/sklearn/metrics/_classification.py:1565: UndefinedMetricWarning: Precision is ill-defined and being set to 0.0 in labels with no predicted samples. Use `zero_division` parameter to control this behavior.\n",
      "  _warn_prf(average, modifier, f\"{metric.capitalize()} is\", len(result))\n",
      "/home/robin/repositories/usw-code-2025/venv/lib/python3.11/site-packages/sklearn/metrics/_classification.py:1565: UndefinedMetricWarning: Precision is ill-defined and being set to 0.0 in labels with no predicted samples. Use `zero_division` parameter to control this behavior.\n",
      "  _warn_prf(average, modifier, f\"{metric.capitalize()} is\", len(result))\n",
      "/home/robin/repositories/usw-code-2025/venv/lib/python3.11/site-packages/sklearn/metrics/_classification.py:1565: UndefinedMetricWarning: Precision is ill-defined and being set to 0.0 in labels with no predicted samples. Use `zero_division` parameter to control this behavior.\n",
      "  _warn_prf(average, modifier, f\"{metric.capitalize()} is\", len(result))\n",
      "/home/robin/repositories/usw-code-2025/venv/lib/python3.11/site-packages/sklearn/metrics/_classification.py:1565: UndefinedMetricWarning: Precision is ill-defined and being set to 0.0 in labels with no predicted samples. Use `zero_division` parameter to control this behavior.\n",
      "  _warn_prf(average, modifier, f\"{metric.capitalize()} is\", len(result))\n",
      "/home/robin/repositories/usw-code-2025/venv/lib/python3.11/site-packages/sklearn/metrics/_classification.py:1565: UndefinedMetricWarning: Precision is ill-defined and being set to 0.0 in labels with no predicted samples. Use `zero_division` parameter to control this behavior.\n",
      "  _warn_prf(average, modifier, f\"{metric.capitalize()} is\", len(result))\n"
     ]
    },
    {
     "data": {
      "text/plain": [
       "TrainOutput(global_step=1350, training_loss=1.501299044644391, metrics={'train_runtime': 80.6562, 'train_samples_per_second': 133.282, 'train_steps_per_second': 16.738, 'total_flos': 3435734400000.0, 'train_loss': 1.501299044644391, 'epoch': 10.0})"
      ]
     },
     "execution_count": 13,
     "metadata": {},
     "output_type": "execute_result"
    }
   ],
   "source": [
    "from transformers import TrainingArguments, Trainer\n",
    "from transformers import DataCollatorWithPadding\n",
    "from sklearn.metrics import precision_recall_fscore_support, accuracy_score\n",
    "\n",
    "def compute_metrics(pred):\n",
    "    labels = pred.label_ids\n",
    "    preds = pred.predictions.argmax(-1)\n",
    "    precision, recall, f1, _ = precision_recall_fscore_support(labels, preds, average='weighted')\n",
    "    acc = accuracy_score(labels, preds)\n",
    "    return {\n",
    "        'accuracy': acc,\n",
    "        'f1': f1,\n",
    "        'precision': precision,\n",
    "        'recall': recall\n",
    "    }\n",
    "\n",
    "\n",
    "data_collator = DataCollatorWithPadding(tokenizer=tokenizer)\n",
    "\n",
    "training_args = TrainingArguments(\n",
    "    output_dir=\"model_output\",\n",
    "    learning_rate=1e-4,\n",
    "    per_device_train_batch_size=8,\n",
    "    per_device_eval_batch_size=8,\n",
    "    num_train_epochs=epochs,\n",
    "    push_to_hub=False,\n",
    "    use_cpu=True,\n",
    "    dataloader_num_workers=1,\n",
    "    eval_strategy=\"steps\",\n",
    "    eval_steps=100,\n",
    "    logging_first_step=True,\n",
    "    load_best_model_at_end=True,\n",
    "    save_strategy=\"steps\",\n",
    "    save_steps=100,\n",
    "    save_total_limit=2,\n",
    ")\n",
    "\n",
    "trainer = Trainer(\n",
    "    model=model,\n",
    "    args=training_args,\n",
    "    train_dataset=ds_train,\n",
    "    eval_dataset=ds_val,\n",
    "    tokenizer=tokenizer,\n",
    "    data_collator=data_collator,\n",
    "    compute_metrics=compute_metrics\n",
    ")\n",
    "\n",
    "trainer.train()"
   ]
  },
  {
   "cell_type": "code",
   "execution_count": 11,
   "id": "1799abdb",
   "metadata": {},
   "outputs": [
    {
     "data": {
      "text/html": [
       "\n",
       "    <div>\n",
       "      \n",
       "      <progress value='42' max='42' style='width:300px; height:20px; vertical-align: middle;'></progress>\n",
       "      [42/42 00:00]\n",
       "    </div>\n",
       "    "
      ],
      "text/plain": [
       "<IPython.core.display.HTML object>"
      ]
     },
     "metadata": {},
     "output_type": "display_data"
    },
    {
     "data": {
      "text/plain": [
       "{'eval_loss': 2.627720832824707,\n",
       " 'eval_accuracy': 0.38095238095238093,\n",
       " 'eval_f1': 0.38095238095238093,\n",
       " 'eval_precision': 0.38095238095238093,\n",
       " 'eval_recall': 0.38095238095238093,\n",
       " 'eval_runtime': 0.491,\n",
       " 'eval_samples_per_second': 684.253,\n",
       " 'eval_steps_per_second': 85.532,\n",
       " 'epoch': 10.0}"
      ]
     },
     "execution_count": 11,
     "metadata": {},
     "output_type": "execute_result"
    }
   ],
   "source": [
    "# evaluate on test set\n",
    "trainer.evaluate(ds_test)"
   ]
  }
 ],
 "metadata": {
  "kernelspec": {
   "display_name": "venv",
   "language": "python",
   "name": "python3"
  },
  "language_info": {
   "codemirror_mode": {
    "name": "ipython",
    "version": 3
   },
   "file_extension": ".py",
   "mimetype": "text/x-python",
   "name": "python",
   "nbconvert_exporter": "python",
   "pygments_lexer": "ipython3",
   "version": "3.11.2"
  }
 },
 "nbformat": 4,
 "nbformat_minor": 5
}
