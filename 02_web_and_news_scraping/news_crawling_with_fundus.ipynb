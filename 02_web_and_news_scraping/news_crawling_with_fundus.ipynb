{
 "cells": [
  {
   "cell_type": "markdown",
   "id": "c0630d74-02de-40fa-833b-97f9bb821a51",
   "metadata": {},
   "source": [
    "# News Crawling\n",
    "\n",
    "News crawling is essential for gathering and analyzing the latest information from various sources in real-time. This exercise explores two approaches to news crawling: (1) reading RSS feeds to collect structured updates from news websites, and (2) leveraging the Fundus library developed by Humboldt University Berlin, which provides tools for advanced web scraping and data extraction."
   ]
  },
  {
   "cell_type": "markdown",
   "id": "91135d00",
   "metadata": {},
   "source": [
    "## Crawl News Website using rss reader\n",
    "\n"
   ]
  },
  {
   "cell_type": "code",
   "execution_count": 12,
   "id": "7a4d88f5",
   "metadata": {},
   "outputs": [
    {
     "name": "stdout",
     "output_type": "stream",
     "text": [
      "Title: Marktbericht: Keine Begeisterungsstürme in New York\n",
      "Link: https://www.tagesschau.de/wirtschaft/finanzen/marktberichte/marktbericht-boersen-trump-powell-fed-dax-kursgewinne-oel-gold-100.html\n",
      "Published: Wed, 23 Apr 2025 22:13:46 +0200\n",
      "Summary: Auf die neuesten Entspannungssignale des US-Präsidenten in Richtung China und Fed reagierte die Wall Street vergleichsweise kühl. Noch gibt es wenig Konkretes. Der DAX hatte noch positiver reagiert.\n",
      "--------------------------------------------------------------------------------\n",
      "Title: Kopfschütteln über Trumps \"Friedensplan\" für die Ukraine\n",
      "Link: https://www.tagesschau.de/ausland/europa/ukraine-russland-usa-eu-verhandlungen-vorschlag-trump-100.html\n",
      "Published: Wed, 23 Apr 2025 22:05:18 +0200\n",
      "Summary: In der EU herrscht Unverständnis über die US-Pläne für eine mögliche Friedenslösung im russischen Krieg gegen die Ukraine. Ist das Tischtuch zwischen Washington und Brüssel in dieser Frage endgültig zerschnitten? Von Andreas Meyer-Feist.\n",
      "--------------------------------------------------------------------------------\n",
      "Title: Forscher halten stärkeres Beben in Istanbul für möglich\n",
      "Link: https://www.tagesschau.de/ausland/istanbul-sorge-vor-neuen-beben-100.html\n",
      "Published: Wed, 23 Apr 2025 20:58:01 +0200\n",
      "Summary: Mehr als 200 Verletzte, aber kaum Schäden: Die Bilanz des Erdbebens in Istanbul klingt weniger schlimm als befürchtet. Doch Forscher rechnen bald mit heftigeren Erschütterungen. Warum ist die Region besonders gefährdet?\n",
      "--------------------------------------------------------------------------------\n",
      "Title: Ukraine-Liveblog: ++ Trump macht der Ukraine neue Vorwürfe ++\n",
      "Link: https://www.tagesschau.de/newsticker/liveblog-ukraine-mittwoch-490.html\n",
      "Published: Wed, 23 Apr 2025 22:15:59 +0200\n",
      "Summary: US-Präsident Trump kritisiert die Ukraine. Das Land verlängere den Krieg, weil es die Krim nicht aufgeben wolle. Die ukrainische Vizeregierungschefin Swyrydenko betont, dass Gespräche mit Russland möglich seien, eine Kapitulation aber nicht.\n",
      "--------------------------------------------------------------------------------\n",
      "Title: Ukraine-Verhandlungen in der Sackgasse?\n",
      "Link: https://www.tagesschau.de/ausland/europa/ukraine-vorschlag-russland-100.html\n",
      "Published: Wed, 23 Apr 2025 18:41:53 +0200\n",
      "Summary: Ein neuer US-Vorschlag zur Beendigung des Kriegs gegen die Ukraine, der auch Gebietsabtretungen vorsieht, stößt in Kiew auf Ablehnung. Experten haben wenig Hoffnung, dass er Schwung in die stockenden Verhandlungen bringen könnte. Von Frank Aischmann.\n",
      "--------------------------------------------------------------------------------\n"
     ]
    }
   ],
   "source": [
    "# RSS feed: https://www.tagesschau.de/infoservices/alle-meldungen-100~rss2.xml\n",
    "import feedparser\n",
    "\n",
    "feed = feedparser.parse(\n",
    "    \"https://www.tagesschau.de/infoservices/alle-meldungen-100~rss2.xml\"\n",
    ")\n",
    "\n",
    "for entry in feed.entries[:5]:\n",
    "    print(f\"Title: {entry.title}\")\n",
    "    print(f\"Link: {entry.link}\")\n",
    "    print(f\"Published: {entry.published}\")\n",
    "    print(f\"Summary: {entry.summary}\")\n",
    "    print(\"-\" * 80)"
   ]
  },
  {
   "cell_type": "markdown",
   "id": "f82d9513",
   "metadata": {},
   "source": [
    "## Crawl news websites with fundus\n",
    "\n",
    "Fundus libary: https://github.com/flairNLP/fundus"
   ]
  },
  {
   "cell_type": "code",
   "execution_count": 13,
   "id": "0a08435f",
   "metadata": {},
   "outputs": [
    {
     "name": "stdout",
     "output_type": "stream",
     "text": [
      "Fundus-Article:\n",
      "- Title: \"Marktbericht: Keine Begeisterungsstürme in New York\"\n",
      "- Text:  \"Auf die neuesten Entspannungssignale des US-Präsidenten in Richtung China und\n",
      "          Fed reagierte die Wall Street vergleichsweise kühl. Noch gibt es [...]\"\n",
      "- URL:    https://www.tagesschau.de/wirtschaft/finanzen/marktberichte/marktbericht-boersen-trump-powell-fed-dax-kursgewinne-oel-gold-100.html\n",
      "- From:   Tagesschau (2025-04-23 20:13)\n"
     ]
    }
   ],
   "source": [
    "from fundus import PublisherCollection, Crawler, NewsMap\n",
    "\n",
    "crawler = Crawler(PublisherCollection.de.Tagesschau)\n",
    "\n",
    "for article in crawler.crawl(max_articles=5, save_to_file=\"tagesschau_news.json\"):\n",
    "    print(article)"
   ]
  },
  {
   "cell_type": "code",
   "execution_count": null,
   "id": "2c142ef0",
   "metadata": {},
   "outputs": [],
   "source": [
    "# TODO:\n",
    "# - update the crawler to crawl news sources from the us\n",
    "# - Read the docs here (https://github.com/flairNLP/fundus/blob/master/docs/3_the_article_class.md) and following to filter all articles that talk about \"trump\" in the topics or title\n",
    "# - The articles should have a title and body"
   ]
  }
 ],
 "metadata": {
  "kernelspec": {
   "display_name": "venv",
   "language": "python",
   "name": "python3"
  },
  "language_info": {
   "codemirror_mode": {
    "name": "ipython",
    "version": 3
   },
   "file_extension": ".py",
   "mimetype": "text/x-python",
   "name": "python",
   "nbconvert_exporter": "python",
   "pygments_lexer": "ipython3",
   "version": "3.11.2"
  }
 },
 "nbformat": 4,
 "nbformat_minor": 5
}
