{
 "cells": [
  {
   "cell_type": "code",
   "execution_count": null,
   "id": "bce8da3c-a076-4476-90aa-ccbb1a4bb024",
   "metadata": {},
   "outputs": [
    {
     "data": {
      "application/vnd.microsoft.datawrangler.viewer.v0+json": {
       "columns": [
        {
         "name": "index",
         "rawType": "int64",
         "type": "integer"
        },
        {
         "name": "label",
         "rawType": "object",
         "type": "string"
        },
        {
         "name": "text",
         "rawType": "object",
         "type": "string"
        },
        {
         "name": "preprocessed_text",
         "rawType": "object",
         "type": "unknown"
        }
       ],
       "conversionMethod": "pd.DataFrame",
       "ref": "8775eae6-001e-4c1b-ab7c-bfac85a254e0",
       "rows": [
        [
         "0",
         "ham",
         "Go until jurong point, crazy.. Available only in bugis n great world la e buffet... Cine there got amore wat...",
         "['go', 'jurong', 'point,', 'crazy..', 'available', 'bugis', 'n', 'great', 'world', 'la', 'e', 'buffet...', 'cine', 'got', 'amore', 'wat...']"
        ],
        [
         "1",
         "ham",
         "Ok lar... Joking wif u oni...",
         "['ok', 'lar...', 'joking', 'wif', 'u', 'oni...']"
        ],
        [
         "2",
         "spam",
         "Free entry in 2 a wkly comp to win FA Cup final tkts 21st May 2005. Text FA to 87121 to receive entry question(std txt rate)T&C's apply 08452810075over18's",
         "['free', 'entry', '2', 'wkly', 'comp', 'win', 'fa', 'cup', 'final', 'tkts', '21st', 'may', '2005.', 'text', 'fa', '87121', 'receive', 'entry', 'question(std', 'txt', \"rate)t&c's\", 'apply', \"08452810075over18's\"]"
        ],
        [
         "3",
         "ham",
         "U dun say so early hor... U c already then say...",
         "['u', 'dun', 'say', 'early', 'hor...', 'u', 'c', 'already', 'say...']"
        ],
        [
         "4",
         "ham",
         "Nah I don't think he goes to usf, he lives around here though",
         "['nah', 'think', 'goes', 'usf,', 'lives', 'around', 'though']"
        ]
       ],
       "shape": {
        "columns": 3,
        "rows": 5
       }
      },
      "text/html": [
       "<div>\n",
       "<style scoped>\n",
       "    .dataframe tbody tr th:only-of-type {\n",
       "        vertical-align: middle;\n",
       "    }\n",
       "\n",
       "    .dataframe tbody tr th {\n",
       "        vertical-align: top;\n",
       "    }\n",
       "\n",
       "    .dataframe thead th {\n",
       "        text-align: right;\n",
       "    }\n",
       "</style>\n",
       "<table border=\"1\" class=\"dataframe\">\n",
       "  <thead>\n",
       "    <tr style=\"text-align: right;\">\n",
       "      <th></th>\n",
       "      <th>label</th>\n",
       "      <th>text</th>\n",
       "      <th>preprocessed_text</th>\n",
       "    </tr>\n",
       "  </thead>\n",
       "  <tbody>\n",
       "    <tr>\n",
       "      <th>0</th>\n",
       "      <td>ham</td>\n",
       "      <td>Go until jurong point, crazy.. Available only ...</td>\n",
       "      <td>[go, jurong, point,, crazy.., available, bugis...</td>\n",
       "    </tr>\n",
       "    <tr>\n",
       "      <th>1</th>\n",
       "      <td>ham</td>\n",
       "      <td>Ok lar... Joking wif u oni...</td>\n",
       "      <td>[ok, lar..., joking, wif, u, oni...]</td>\n",
       "    </tr>\n",
       "    <tr>\n",
       "      <th>2</th>\n",
       "      <td>spam</td>\n",
       "      <td>Free entry in 2 a wkly comp to win FA Cup fina...</td>\n",
       "      <td>[free, entry, 2, wkly, comp, win, fa, cup, fin...</td>\n",
       "    </tr>\n",
       "    <tr>\n",
       "      <th>3</th>\n",
       "      <td>ham</td>\n",
       "      <td>U dun say so early hor... U c already then say...</td>\n",
       "      <td>[u, dun, say, early, hor..., u, c, already, sa...</td>\n",
       "    </tr>\n",
       "    <tr>\n",
       "      <th>4</th>\n",
       "      <td>ham</td>\n",
       "      <td>Nah I don't think he goes to usf, he lives aro...</td>\n",
       "      <td>[nah, think, goes, usf,, lives, around, though]</td>\n",
       "    </tr>\n",
       "  </tbody>\n",
       "</table>\n",
       "</div>"
      ],
      "text/plain": [
       "  label                                               text  \\\n",
       "0   ham  Go until jurong point, crazy.. Available only ...   \n",
       "1   ham                      Ok lar... Joking wif u oni...   \n",
       "2  spam  Free entry in 2 a wkly comp to win FA Cup fina...   \n",
       "3   ham  U dun say so early hor... U c already then say...   \n",
       "4   ham  Nah I don't think he goes to usf, he lives aro...   \n",
       "\n",
       "                                   preprocessed_text  \n",
       "0  [go, jurong, point,, crazy.., available, bugis...  \n",
       "1               [ok, lar..., joking, wif, u, oni...]  \n",
       "2  [free, entry, 2, wkly, comp, win, fa, cup, fin...  \n",
       "3  [u, dun, say, early, hor..., u, c, already, sa...  \n",
       "4    [nah, think, goes, usf,, lives, around, though]  "
      ]
     },
     "execution_count": 43,
     "metadata": {},
     "output_type": "execute_result"
    }
   ],
   "source": [
    "import pandas as pd\n",
    "from ast import literal_eval\n",
    "file_path: str = \"data/prepared_sms_data.csv\"\n",
    "file_path_parquet: str = \"data/prepared_sms_data.parquet\"\n",
    "text_column: str = \"preprocessed_text\"\n",
    "\n",
    "# alternative: df = pd.read_csv(file_path, converters={\"preprocessed_text\": literal_eval})\n",
    "df = pd.read_parquet(file_path_parquet)\n",
    "df.head(5)"
   ]
  },
  {
   "cell_type": "code",
   "execution_count": 44,
   "id": "e2ff3796",
   "metadata": {},
   "outputs": [],
   "source": [
    "df[text_column] = df[text_column].apply(\" \".join)"
   ]
  },
  {
   "cell_type": "code",
   "execution_count": 45,
   "id": "28cd583a-6dfb-4440-9e23-474dd29a9923",
   "metadata": {},
   "outputs": [],
   "source": [
    "### Prepare splits\n",
    "from sklearn.model_selection import train_test_split\n",
    "train, test = train_test_split(df, test_size=0.2, stratify=df['label'])"
   ]
  },
  {
   "cell_type": "code",
   "execution_count": 46,
   "id": "52f9f28e-46a6-435c-9152-76779cba4cbb",
   "metadata": {},
   "outputs": [
    {
     "data": {
      "text/plain": [
       "label\n",
       "ham     3613\n",
       "spam     522\n",
       "Name: count, dtype: int64"
      ]
     },
     "execution_count": 46,
     "metadata": {},
     "output_type": "execute_result"
    }
   ],
   "source": [
    "train['label'].value_counts()"
   ]
  },
  {
   "cell_type": "code",
   "execution_count": 47,
   "id": "a268d6bf-ace8-4b43-aa57-272fc798527d",
   "metadata": {},
   "outputs": [],
   "source": [
    "from sklearn.preprocessing import LabelEncoder\n",
    "\n",
    "le = LabelEncoder()\n",
    "Y_train = le.fit_transform(train['label'])\n",
    "Y_test = le.transform(test['label'])"
   ]
  },
  {
   "cell_type": "code",
   "execution_count": 48,
   "id": "b8512d70-70f4-4b30-abf9-55a65901ec3b",
   "metadata": {},
   "outputs": [],
   "source": [
    "from sklearn.feature_extraction.text import CountVectorizer, TfidfVectorizer\n",
    "\n",
    "# TODO: add Tfidf vectorizer here, update the following code and compare results later\n",
    "tfidf_vec = TfidfVectorizer()\n",
    "X_train_tfidf = tfidf_vec.fit_transform(train[text_column])\n",
    "X_test_tfidf = tfidf_vec.transform(test[text_column])\n",
    "\n",
    "vec = CountVectorizer()\n",
    "X_train = vec.fit_transform(train[text_column])\n",
    "X_test = vec.transform(test[text_column])"
   ]
  },
  {
   "cell_type": "code",
   "execution_count": 49,
   "id": "542f034d-0e7e-4e83-8ba9-172cff9bab16",
   "metadata": {},
   "outputs": [],
   "source": [
    "# TODO we will take accuracy for the beginning. Which metric would be more suitable and why? Answer: F1-Score is more suitable for imbalanced datasets, as it considers both precision and recall. Accuracy can be misleading in such cases, as it may not reflect the true performance of the model on minority classes."
   ]
  },
  {
   "cell_type": "code",
   "execution_count": 50,
   "id": "2bffec3c-edeb-46dd-a050-101625d7245a",
   "metadata": {},
   "outputs": [],
   "source": [
    "results = []\n",
    "\n",
    "def get_name(classifier):\n",
    "    return type(classifier).__name__"
   ]
  },
  {
   "cell_type": "code",
   "execution_count": 51,
   "id": "f37a8de0-d969-420e-92a0-13dc1f9ca8e6",
   "metadata": {},
   "outputs": [],
   "source": [
    "# TODO: What is the baseline for random classification and majority vote?\n",
    "from sklearn.dummy import DummyClassifier\n",
    "dummy = DummyClassifier(strategy=\"most_frequent\")\n",
    "dummy.fit(X_train, Y_train)\n",
    "score = dummy.score(X_test, Y_test)\n",
    "\n",
    "results.append([get_name(dummy)+\"_most_frequent\", score, \"count_vec\"])\n",
    "\n",
    "dummy = DummyClassifier(strategy=\"uniform\")\n",
    "dummy.fit(X_train, Y_train)\n",
    "score = dummy.score(X_test, Y_test)\n",
    "\n",
    "results.append([get_name(dummy)+\"_random_uniform\", score, \"count_vec\"])"
   ]
  },
  {
   "cell_type": "code",
   "execution_count": 52,
   "id": "5d50d354-1905-4f40-8b78-6eb4863d9bfe",
   "metadata": {},
   "outputs": [],
   "source": [
    "from sklearn.naive_bayes import MultinomialNB\n",
    "\n",
    "nb_model = MultinomialNB().fit(X_train, Y_train)\n",
    "score = nb_model.score(X_test, Y_test)\n",
    "\n",
    "results.append([get_name(nb_model), score, \"count_vec\"])\n",
    "\n",
    "nb_model = MultinomialNB().fit(X_train_tfidf, Y_train)\n",
    "score = nb_model.score(X_test_tfidf, Y_test)\n",
    "\n",
    "results.append([get_name(nb_model), score, \"tfidf_vec\"])"
   ]
  },
  {
   "cell_type": "code",
   "execution_count": 53,
   "id": "c5007bcd-e484-41bf-9460-b128780acd30",
   "metadata": {},
   "outputs": [],
   "source": [
    "from sklearn.tree import DecisionTreeClassifier\n",
    "\n",
    "max_depth = 3\n",
    "# TODO: configure the max depth of the decision tree\n",
    "dt_model = DecisionTreeClassifier(max_depth=max_depth).fit(X_train, Y_train)\n",
    "score = dt_model.score(X_test, Y_test)\n",
    "\n",
    "results.append([get_name(dt_model), score, \"count_vec\"])\n",
    "\n",
    "dt_model = DecisionTreeClassifier(max_depth=max_depth).fit(X_train_tfidf, Y_train)\n",
    "score = dt_model.score(X_test_tfidf, Y_test)\n",
    "\n",
    "results.append([get_name(dt_model), score, \"tfidf_vec\"])"
   ]
  },
  {
   "cell_type": "code",
   "execution_count": 54,
   "id": "2135afb0-9d10-470d-bdbf-0ac637579ae5",
   "metadata": {},
   "outputs": [
    {
     "data": {
      "text/plain": [
       "[Text(0.5, 0.875, 'call <= 0.088\\ngini = 0.221\\nsamples = 4135\\nvalue = [3613, 522]\\nclass = ham'),\n",
       " Text(0.25, 0.625, 'txt <= 0.057\\ngini = 0.141\\nsamples = 3762\\nvalue = [3474, 288]\\nclass = ham'),\n",
       " Text(0.375, 0.75, 'True  '),\n",
       " Text(0.125, 0.375, 'www <= 0.066\\ngini = 0.102\\nsamples = 3660\\nvalue = [3463, 197]\\nclass = ham'),\n",
       " Text(0.0625, 0.125, 'gini = 0.084\\nsamples = 3621\\nvalue = [3462, 159]\\nclass = ham'),\n",
       " Text(0.1875, 0.125, 'gini = 0.05\\nsamples = 39\\nvalue = [1, 38]\\nclass = spam'),\n",
       " Text(0.375, 0.375, 'txt <= 0.19\\ngini = 0.192\\nsamples = 102\\nvalue = [11, 91]\\nclass = spam'),\n",
       " Text(0.3125, 0.125, 'gini = 0.046\\nsamples = 85\\nvalue = [2, 83]\\nclass = spam'),\n",
       " Text(0.4375, 0.125, 'gini = 0.498\\nsamples = 17\\nvalue = [9, 8]\\nclass = ham'),\n",
       " Text(0.75, 0.625, 'call <= 0.146\\ngini = 0.468\\nsamples = 373\\nvalue = [139, 234]\\nclass = spam'),\n",
       " Text(0.625, 0.75, '  False'),\n",
       " Text(0.625, 0.375, 'me <= 0.069\\ngini = 0.202\\nsamples = 210\\nvalue = [24, 186]\\nclass = spam'),\n",
       " Text(0.5625, 0.125, 'gini = 0.168\\nsamples = 205\\nvalue = [19, 186]\\nclass = spam'),\n",
       " Text(0.6875, 0.125, 'gini = 0.0\\nsamples = 5\\nvalue = [5, 0]\\nclass = ham'),\n",
       " Text(0.875, 0.375, 'call <= 0.275\\ngini = 0.416\\nsamples = 163\\nvalue = [115, 48]\\nclass = ham'),\n",
       " Text(0.8125, 0.125, 'gini = 0.495\\nsamples = 105\\nvalue = [58.0, 47.0]\\nclass = ham'),\n",
       " Text(0.9375, 0.125, 'gini = 0.034\\nsamples = 58\\nvalue = [57, 1]\\nclass = ham')]"
      ]
     },
     "execution_count": 54,
     "metadata": {},
     "output_type": "execute_result"
    },
    {
     "data": {
      "image/png": "[encoded data removed]",
      "text/plain": [
       "<Figure size 640x480 with 1 Axes>"
      ]
     },
     "metadata": {},
     "output_type": "display_data"
    }
   ],
   "source": [
    "# TODO visualize the decision tree (https://scikit-learn.org/stable/modules/generated/sklearn.tree.plot_tree.html)\n",
    "from sklearn.tree import plot_tree\n",
    "plot_tree(dt_model, filled=True, feature_names=vec.get_feature_names_out(), class_names=le.classes_, fontsize=6)"
   ]
  },
  {
   "cell_type": "code",
   "execution_count": 55,
   "id": "8c98dbac-905f-43be-9287-e5d825656ef2",
   "metadata": {},
   "outputs": [],
   "source": [
    "# train also a random forest classifer and a linear svc\n",
    "# https://scikit-learn.org/stable/modules/generated/sklearn.ensemble.RandomForestClassifier.html\n",
    "# https://scikit-learn.org/stable/modules/generated/sklearn.svm.LinearSVC.html\n",
    "\n",
    "from sklearn.ensemble import RandomForestClassifier\n",
    "\n",
    "rf_model = RandomForestClassifier().fit(X_train, Y_train)\n",
    "score = rf_model.score(X_test, Y_test)\n",
    "results.append([get_name(rf_model), score, \"count_vec\"])\n",
    "\n",
    "rf_model = RandomForestClassifier().fit(X_train_tfidf, Y_train)\n",
    "score = rf_model.score(X_test_tfidf, Y_test)\n",
    "results.append([get_name(rf_model), score, \"tfidf_vec\"])\n",
    "\n",
    "from sklearn.svm import LinearSVC\n",
    "\n",
    "svc_model = LinearSVC().fit(X_train, Y_train)\n",
    "score = svc_model.score(X_test, Y_test)\n",
    "results.append([get_name(svc_model), score, \"count_vec\"])\n",
    "\n",
    "svc_model = LinearSVC().fit(X_train_tfidf, Y_train)\n",
    "score = svc_model.score(X_test_tfidf, Y_test)\n",
    "results.append([get_name(svc_model), score, \"tfidf_vec\"])"
   ]
  },
  {
   "cell_type": "markdown",
   "id": "c99f02de-8408-4a54-b0a0-2bb58fc4692d",
   "metadata": {},
   "source": [
    "## All results"
   ]
  },
  {
   "cell_type": "code",
   "execution_count": 56,
   "id": "93d85fc0-1ea0-43dc-8647-ffd6fd083347",
   "metadata": {},
   "outputs": [
    {
     "data": {
      "application/vnd.microsoft.datawrangler.viewer.v0+json": {
       "columns": [
        {
         "name": "index",
         "rawType": "int64",
         "type": "integer"
        },
        {
         "name": "classifer",
         "rawType": "object",
         "type": "string"
        },
        {
         "name": "accuracy",
         "rawType": "float64",
         "type": "float"
        },
        {
         "name": "vectorizer",
         "rawType": "object",
         "type": "string"
        }
       ],
       "conversionMethod": "pd.DataFrame",
       "ref": "a8630107-1312-4d01-9dab-2497742d892d",
       "rows": [
        [
         "1",
         "DummyClassifier_random_uniform",
         "0.4941972920696325",
         "count_vec"
        ],
        [
         "0",
         "DummyClassifier_most_frequent",
         "0.8733075435203095",
         "count_vec"
        ],
        [
         "4",
         "DecisionTreeClassifier",
         "0.9187620889748549",
         "count_vec"
        ],
        [
         "5",
         "DecisionTreeClassifier",
         "0.9303675048355899",
         "tfidf_vec"
        ],
        [
         "3",
         "MultinomialNB",
         "0.960348162475822",
         "tfidf_vec"
        ],
        [
         "7",
         "RandomForestClassifier",
         "0.9680851063829787",
         "tfidf_vec"
        ],
        [
         "6",
         "RandomForestClassifier",
         "0.971953578336557",
         "count_vec"
        ],
        [
         "9",
         "LinearSVC",
         "0.9777562862669246",
         "tfidf_vec"
        ],
        [
         "2",
         "MultinomialNB",
         "0.9796905222437138",
         "count_vec"
        ],
        [
         "8",
         "LinearSVC",
         "0.9825918762088974",
         "count_vec"
        ]
       ],
       "shape": {
        "columns": 3,
        "rows": 10
       }
      },
      "text/html": [
       "<div>\n",
       "<style scoped>\n",
       "    .dataframe tbody tr th:only-of-type {\n",
       "        vertical-align: middle;\n",
       "    }\n",
       "\n",
       "    .dataframe tbody tr th {\n",
       "        vertical-align: top;\n",
       "    }\n",
       "\n",
       "    .dataframe thead th {\n",
       "        text-align: right;\n",
       "    }\n",
       "</style>\n",
       "<table border=\"1\" class=\"dataframe\">\n",
       "  <thead>\n",
       "    <tr style=\"text-align: right;\">\n",
       "      <th></th>\n",
       "      <th>classifer</th>\n",
       "      <th>accuracy</th>\n",
       "      <th>vectorizer</th>\n",
       "    </tr>\n",
       "  </thead>\n",
       "  <tbody>\n",
       "    <tr>\n",
       "      <th>1</th>\n",
       "      <td>DummyClassifier_random_uniform</td>\n",
       "      <td>0.494197</td>\n",
       "      <td>count_vec</td>\n",
       "    </tr>\n",
       "    <tr>\n",
       "      <th>0</th>\n",
       "      <td>DummyClassifier_most_frequent</td>\n",
       "      <td>0.873308</td>\n",
       "      <td>count_vec</td>\n",
       "    </tr>\n",
       "    <tr>\n",
       "      <th>4</th>\n",
       "      <td>DecisionTreeClassifier</td>\n",
       "      <td>0.918762</td>\n",
       "      <td>count_vec</td>\n",
       "    </tr>\n",
       "    <tr>\n",
       "      <th>5</th>\n",
       "      <td>DecisionTreeClassifier</td>\n",
       "      <td>0.930368</td>\n",
       "      <td>tfidf_vec</td>\n",
       "    </tr>\n",
       "    <tr>\n",
       "      <th>3</th>\n",
       "      <td>MultinomialNB</td>\n",
       "      <td>0.960348</td>\n",
       "      <td>tfidf_vec</td>\n",
       "    </tr>\n",
       "    <tr>\n",
       "      <th>7</th>\n",
       "      <td>RandomForestClassifier</td>\n",
       "      <td>0.968085</td>\n",
       "      <td>tfidf_vec</td>\n",
       "    </tr>\n",
       "    <tr>\n",
       "      <th>6</th>\n",
       "      <td>RandomForestClassifier</td>\n",
       "      <td>0.971954</td>\n",
       "      <td>count_vec</td>\n",
       "    </tr>\n",
       "    <tr>\n",
       "      <th>9</th>\n",
       "      <td>LinearSVC</td>\n",
       "      <td>0.977756</td>\n",
       "      <td>tfidf_vec</td>\n",
       "    </tr>\n",
       "    <tr>\n",
       "      <th>2</th>\n",
       "      <td>MultinomialNB</td>\n",
       "      <td>0.979691</td>\n",
       "      <td>count_vec</td>\n",
       "    </tr>\n",
       "    <tr>\n",
       "      <th>8</th>\n",
       "      <td>LinearSVC</td>\n",
       "      <td>0.982592</td>\n",
       "      <td>count_vec</td>\n",
       "    </tr>\n",
       "  </tbody>\n",
       "</table>\n",
       "</div>"
      ],
      "text/plain": [
       "                        classifer  accuracy vectorizer\n",
       "1  DummyClassifier_random_uniform  0.494197  count_vec\n",
       "0   DummyClassifier_most_frequent  0.873308  count_vec\n",
       "4          DecisionTreeClassifier  0.918762  count_vec\n",
       "5          DecisionTreeClassifier  0.930368  tfidf_vec\n",
       "3                   MultinomialNB  0.960348  tfidf_vec\n",
       "7          RandomForestClassifier  0.968085  tfidf_vec\n",
       "6          RandomForestClassifier  0.971954  count_vec\n",
       "9                       LinearSVC  0.977756  tfidf_vec\n",
       "2                   MultinomialNB  0.979691  count_vec\n",
       "8                       LinearSVC  0.982592  count_vec"
      ]
     },
     "execution_count": 56,
     "metadata": {},
     "output_type": "execute_result"
    }
   ],
   "source": [
    "result_df = pd.DataFrame(results, columns=[\"classifer\", \"accuracy\", \"vectorizer\"])\n",
    "result_df.sort_values(by=[\"accuracy\"])"
   ]
  },
  {
   "cell_type": "code",
   "execution_count": null,
   "id": "a841ad5c-560f-4235-a05f-c56ecb70ab78",
   "metadata": {},
   "outputs": [],
   "source": []
  }
 ],
 "metadata": {
  "kernelspec": {
   "display_name": "venv",
   "language": "python",
   "name": "python3"
  },
  "language_info": {
   "codemirror_mode": {
    "name": "ipython",
    "version": 3
   },
   "file_extension": ".py",
   "mimetype": "text/x-python",
   "name": "python",
   "nbconvert_exporter": "python",
   "pygments_lexer": "ipython3",
   "version": "3.11.2"
  }
 },
 "nbformat": 4,
 "nbformat_minor": 5
}
